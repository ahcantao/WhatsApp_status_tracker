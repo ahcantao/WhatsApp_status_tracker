{
 "cells": [
  {
   "cell_type": "code",
   "execution_count": null,
   "metadata": {},
   "outputs": [],
   "source": [
    "#!/usr/bin/env python3\n",
    "#pip install -U selenium\n",
    "from time import sleep\n",
    "from selenium import webdriver"
   ]
  },
  {
   "cell_type": "code",
   "execution_count": null,
   "metadata": {},
   "outputs": [],
   "source": [
    "def connect(): \n",
    "    logged_in      = False\n",
    "    counting_tries = 0\n",
    "    max_tries      = 5\n",
    "    browser        = webdriver.Chrome()\n",
    "    print('Open WhatsApp on your phone and scan the QR code on the new chorme window.')\n",
    "    browser.get('https://web.whatsapp.com')\n",
    "    while logged_in is False:\n",
    "        sleep(5)\n",
    "        try:\n",
    "            info = browser.find_element_by_class_name('Qk8nZ')\n",
    "            if info.text == 'Keep your phone connected':\n",
    "                logged_in = True\n",
    "                print('You\\'re on!')\n",
    "                return True, browser\n",
    "        except:\n",
    "            #exit timing\n",
    "            counting_tries += 1\n",
    "            if counting_tries == 4:\n",
    "                break\n",
    "            else:\n",
    "                print('be fast to connect: Try '+str(counting_tries)+' of '+str(max_tries))\n",
    "            pass\n",
    "    return True, browser"
   ]
  },
  {
   "cell_type": "code",
   "execution_count": null,
   "metadata": {
    "scrolled": true
   },
   "outputs": [],
   "source": [
    "def setup_contact_window(browser, stalked_contact_name):\n",
    "    search = browser.find_element_by_class_name('_2zCfw.copyable-text.selectable-text')\n",
    "    #search.text\n",
    "    search.clear()\n",
    "    search.send_keys(stalked_contact_name)\n",
    "    #browser.save_screenshot('screenshot.png')\n",
    "    sleep(3)\n",
    "    contacts = browser.find_elements_by_class_name('X7YrQ')  #_1H6CJ\n",
    "    for contact in contacts:\n",
    "        if stalked_contact_name+\"\\n\" in contact.text:\n",
    "            contact.click()\n",
    "            search.clear()\n",
    "            print('Do NOT use the WhatsApp web while stalking.\\n')\n",
    "            print('Do NOT click/open other chats while stalking.\\n')\n",
    "            print('Use your phone to do so.\\n')\n",
    "            return True\n",
    "    if not contacts:\n",
    "        print('Contact not found!! Check if \\''+stalked_contact_name+'\\' is written exactely the same as in your agenda')\n",
    "        return False"
   ]
  },
  {
   "cell_type": "code",
   "execution_count": null,
   "metadata": {
    "scrolled": true
   },
   "outputs": [],
   "source": [
    "def stalk(browser, stalked_contact_name, informed_contact_name,check_frequency_sec,message_to_be_sent):\n",
    "    print('You\\'re already stalking!')\n",
    "    status = ''\n",
    "    while status != 'online':\n",
    "        try: \n",
    "            status = browser.find_element_by_class_name('_315-i._F7Vk').text #_315-i _F7Vk\n",
    "        except:\n",
    "            pass\n",
    "        sleep(check_frequency_sec)\n",
    "    search = browser.find_element_by_class_name('_2zCfw.copyable-text.selectable-text')\n",
    "    search.send_keys(informed_contact_name)\n",
    "    sleep(5)\n",
    "    chats = browser.find_elements_by_class_name('X7YrQ')\n",
    "    for chat in chats:\n",
    "        #name = chat.get_attribute('title')\n",
    "        if informed_contact_name+'\\n' in chat.text:\n",
    "            chat.click()\n",
    "            break\n",
    "    send = browser.find_elements_by_xpath('//*[@id=\"main\"]/footer/div[1]/div[2]/div/div[2]')[0]\n",
    "    send.send_keys(message_to_be_sent)\n",
    "    sendbutton = browser.find_elements_by_xpath('//*[@id=\"main\"]/footer/div[1]/div[3]/button')[0]\n",
    "    sendbutton.click()"
   ]
  },
  {
   "cell_type": "code",
   "execution_count": null,
   "metadata": {
    "scrolled": true
   },
   "outputs": [],
   "source": [
    "stalked_contact_name  = '' #insert the name exactely like in your agenda\n",
    "informed_contact_name = '' #insert the name exactely like in your agenda\n",
    "check_frequency_sec   = 6  #check the status every _ seconds\n",
    "message_to_be_sent    = stalked_contact_name + ' is online'\n",
    "\n",
    "connected, browser    = connect()\n",
    "while True:\n",
    "    sleep(5)\n",
    "    setup = setup_contact_window(browser, stalked_contact_name)\n",
    "    sleep(5)\n",
    "    stalk(browser, stalked_contact_name, informed_contact_name,check_frequency_sec, message_to_be_sent)"
   ]
  }
 ],
 "metadata": {
  "kernelspec": {
   "display_name": "Python 3",
   "language": "python",
   "name": "python3"
  },
  "language_info": {
   "codemirror_mode": {
    "name": "ipython",
    "version": 3
   },
   "file_extension": ".py",
   "mimetype": "text/x-python",
   "name": "python",
   "nbconvert_exporter": "python",
   "pygments_lexer": "ipython3",
   "version": "3.7.6"
  }
 },
 "nbformat": 4,
 "nbformat_minor": 2
}
